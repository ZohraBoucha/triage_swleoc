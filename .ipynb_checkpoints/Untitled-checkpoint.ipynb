{
 "cells": [
  {
   "cell_type": "code",
   "execution_count": 20,
   "id": "0047c324-60ca-4d35-90c7-573608cb764e",
   "metadata": {},
   "outputs": [],
   "source": [
    "import os\n",
    "import re\n",
    "import csv\n",
    "import pandas as pd\n",
    "from doctr.io import DocumentFile\n",
    "from doctr.models import ocr_predictor\n",
    "import transformers\n",
    "import torch\n",
    "import logging\n",
    "import warnings\n",
    "from transformers import logging as transformers_logging\n",
    "from tqdm import tqdm\n",
    "\n",
    "# Suppress warnings and set logging levels (as before)\n",
    "warnings.filterwarnings('ignore')\n",
    "transformers_logging.set_verbosity_error()\n",
    "warnings.filterwarnings(\"ignore\", category=RuntimeWarning, module=\"torch.nn.parallel\")\n"
   ]
  },
  {
   "cell_type": "code",
   "execution_count": 27,
   "id": "60b7a74f-a428-4c1a-b0f8-e7f7a5ecfbf3",
   "metadata": {},
   "outputs": [],
   "source": [
    "def extract_text_from_pdf(pdf_path):\n",
    "    doc = DocumentFile.from_pdf(pdf_path)\n",
    "    predictor = ocr_predictor(pretrained=True)\n",
    "    result = predictor(doc)\n",
    "    json_output = result.export()\n",
    "    \n",
    "    extracted_text = \"\"\n",
    "    for page in json_output['pages']:\n",
    "        for block in page['blocks']:\n",
    "            for line in block['lines']:\n",
    "                for word in line['words']:\n",
    "                    extracted_text += word['value'] + ' '\n",
    "                extracted_text += '\\n'\n",
    "    \n",
    "    return extracted_text.strip()\n",
    "\n",
    "def extract_patient_info_from_filename(filename):\n",
    "    match = re.match(r'(\\d{4}-\\d{2}-\\d{2})\\s+(\\d+)-[RC]\\.pdf', filename)\n",
    "    if match:\n",
    "        date = match.group(1)\n",
    "        nhs_number = match.group(2)\n",
    "        return date, nhs_number\n",
    "    return None, None\n",
    "\n",
    "def initialize_pipeline(gpu_id=2):\n",
    "    model_id = \"HPAI-BSC/Llama3-Aloe-8B-Alpha\"\n",
    "    try:\n",
    "        if torch.cuda.is_available():\n",
    "            device = f\"cuda:{gpu_id}\"\n",
    "        else:\n",
    "            print(\"CUDA is not available. Using CPU.\")\n",
    "            device = \"cpu\"\n",
    "        \n",
    "        pipeline = transformers.pipeline(\n",
    "            \"text-generation\",\n",
    "            model=model_id,\n",
    "            model_kwargs={\"torch_dtype\": torch.bfloat16},\n",
    "            device=device,\n",
    "        )\n",
    "        return pipeline\n",
    "    except Exception as e:\n",
    "        print(f\"Error loading model: {e}\")\n",
    "        raise\n",
    "\n",
    "def extract_doctor_specialty(pipeline, texts):\n",
    "    try:\n",
    "        messages = [\n",
    "            {\"role\": \"system\", \"content\": \"Extract the doctor's specialty from the following clinic letter.\"}\n",
    "        ] + [{\"role\": \"user\", \"content\": text} for text in texts]\n",
    "        \n",
    "        prompts = pipeline.tokenizer.apply_chat_template(\n",
    "            messages, \n",
    "            tokenize=False, \n",
    "            add_generation_prompt=True\n",
    "        )\n",
    "        terminators = [\n",
    "            pipeline.tokenizer.eos_token_id,\n",
    "            pipeline.tokenizer.convert_tokens_to_ids(\"<|eot_id|>\")\n",
    "        ]\n",
    "        outputs = pipeline(\n",
    "            prompts,\n",
    "            max_new_tokens=50,\n",
    "            eos_token_id=terminators,\n",
    "            do_sample=True,\n",
    "            temperature=0.7,\n",
    "            top_p=0.95,\n",
    "            batch_size=len(texts)  # Process all texts in one batch\n",
    "        )\n",
    "        return [output[\"generated_text\"].split(\"Doctor's specialty:\")[-1].strip() for output in outputs]\n",
    "    except Exception as e:\n",
    "        return [f\"An error occurred: {str(e)}\"] * len(texts)\n",
    "\n",
    "\n",
    "def process_patient_folder(folder_path, pipeline):\n",
    "    referral_letter = None\n",
    "    clinic_letters = []\n",
    "    \n",
    "    for file in os.listdir(folder_path):\n",
    "        if file.endswith('-R.pdf'):\n",
    "            referral_letter = file\n",
    "        elif file.endswith('-C.pdf'):\n",
    "            clinic_letters.append(file)\n",
    "    \n",
    "    if not referral_letter:\n",
    "        print(f\"Warning: No referral letter found in {folder_path}\")\n",
    "        return None\n",
    "    \n",
    "    date, nhs_number = extract_patient_info_from_filename(referral_letter)\n",
    "    if date is None or nhs_number is None:\n",
    "        print(f\"Warning: Could not extract info from filename: {referral_letter}\")\n",
    "        return None\n",
    "    \n",
    "    referral_text = extract_text_from_pdf(os.path.join(folder_path, referral_letter))\n",
    "    \n",
    "    clinic_texts = [extract_text_from_pdf(os.path.join(folder_path, letter)) for letter in clinic_letters]\n",
    "    specialties = extract_doctor_specialty(pipeline, clinic_texts)\n",
    "    \n",
    "    return {\n",
    "        'NHS_Number': nhs_number,\n",
    "        'Referral_Date': date,\n",
    "        'Referral_Letter_Text': referral_text,\n",
    "        'Doctor_Specialties': ', '.join(specialties),\n",
    "        'Num_Clinic_Letters': len(clinic_letters)\n",
    "    }\n",
    "\n",
    "def main():\n",
    "    gpu_id = 2  # This will use the third GPU\n",
    "    pipeline = initialize_pipeline(gpu_id)\n",
    "    \n",
    "    base_folder = '/home/swleocresearch/Desktop/triage-ai/datasets/cleaned_dataset_ali'\n",
    "    output_data = []\n",
    "    \n",
    "    # Get total number of patient folders\n",
    "    total_folders = sum(1 for entry in os.listdir(base_folder) if os.path.isdir(os.path.join(base_folder, entry)))\n",
    "    \n",
    "    # Main progress bar for patient folders\n",
    "    with tqdm(total=total_folders, desc=\"Processing patients\", unit=\"patient\") as pbar:\n",
    "        for patient_folder in os.listdir(base_folder):\n",
    "            folder_path = os.path.join(base_folder, patient_folder)\n",
    "            if os.path.isdir(folder_path):\n",
    "                result = process_patient_folder(folder_path, pipeline)\n",
    "                if result:\n",
    "                    output_data.append(result)\n",
    "                pbar.update(1)\n",
    "                pbar.set_postfix({\"Letters Processed\": sum(item['Num_Clinic_Letters'] for item in output_data)})\n",
    "\n",
    "                break\n",
    "    \n",
    "    # Write output to CSV\n",
    "    with open('output.csv', 'w', newline='', encoding='utf-8') as csvfile:\n",
    "        fieldnames = ['NHS_Number', 'Referral_Date', 'Referral_Letter_Text', 'Doctor_Specialties', 'Num_Clinic_Letters']\n",
    "        writer = csv.DictWriter(csvfile, fieldnames=fieldnames)\n",
    "        \n",
    "        writer.writeheader()\n",
    "        for row in output_data:\n",
    "            writer.writerow(row)\n",
    "    \n",
    "    print(\"output.csv has been created successfully.\")\n",
    "    print(f\"Total patients processed: {len(output_data)}\")\n",
    "    print(f\"Total clinic letters processed: {sum(item['Num_Clinic_Letters'] for item in output_data)}\")"
   ]
  },
  {
   "cell_type": "code",
   "execution_count": 28,
   "id": "064306b5-2c47-4fb0-86c5-2084528a4f7a",
   "metadata": {
    "collapsed": true,
    "jupyter": {
     "outputs_hidden": true
    }
   },
   "outputs": [
    {
     "data": {
      "application/vnd.jupyter.widget-view+json": {
       "model_id": "5860020873ca4306ab630a74de7a6336",
       "version_major": 2,
       "version_minor": 0
      },
      "text/plain": [
       "Loading checkpoint shards:   0%|          | 0/4 [00:00<?, ?it/s]"
      ]
     },
     "metadata": {},
     "output_type": "display_data"
    },
    {
     "name": "stderr",
     "output_type": "stream",
     "text": [
      "Processing patients:   0%|▏                                 | 1/253 [00:44<3:08:03, 44.78s/patient, Letters Processed=8]"
     ]
    },
    {
     "name": "stdout",
     "output_type": "stream",
     "text": [
      "output.csv has been created successfully.\n",
      "Total patients processed: 1\n",
      "Total clinic letters processed: 8\n"
     ]
    },
    {
     "name": "stderr",
     "output_type": "stream",
     "text": [
      "\n"
     ]
    }
   ],
   "source": [
    "if __name__ == \"__main__\":\n",
    "    main()"
   ]
  },
  {
   "cell_type": "code",
   "execution_count": null,
   "id": "8c254003-fa62-4f1b-a555-819c87edc812",
   "metadata": {},
   "outputs": [],
   "source": []
  }
 ],
 "metadata": {
  "kernelspec": {
   "display_name": "Python 3 (ipykernel)",
   "language": "python",
   "name": "python3"
  },
  "language_info": {
   "codemirror_mode": {
    "name": "ipython",
    "version": 3
   },
   "file_extension": ".py",
   "mimetype": "text/x-python",
   "name": "python",
   "nbconvert_exporter": "python",
   "pygments_lexer": "ipython3",
   "version": "3.10.12"
  }
 },
 "nbformat": 4,
 "nbformat_minor": 5
}
