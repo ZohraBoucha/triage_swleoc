{
 "cells": [
  {
   "cell_type": "code",
   "execution_count": 87,
   "id": "380ff49b-9a1e-4c47-8a33-e478d41857bb",
   "metadata": {},
   "outputs": [],
   "source": [
    "import pandas as pd\n",
    "import os\n"
   ]
  },
  {
   "cell_type": "code",
   "execution_count": 88,
   "id": "4980caef-500e-409b-83ef-9119795e2453",
   "metadata": {},
   "outputs": [],
   "source": [
    "# df_raw = pd.read_csv('/home/swleocresearch/Desktop/triage-ai/datasets/extracted_letters_text.csv')\n",
    "df_label = pd.read_csv('/home/swleocresearch/Desktop/triage-ai/datasets/labels.csv')"
   ]
  },
  {
   "cell_type": "code",
   "execution_count": 89,
   "id": "777b8afa-abd3-42ad-8262-22039b08eb36",
   "metadata": {},
   "outputs": [
    {
     "data": {
      "text/html": [
       "<div>\n",
       "<style scoped>\n",
       "    .dataframe tbody tr th:only-of-type {\n",
       "        vertical-align: middle;\n",
       "    }\n",
       "\n",
       "    .dataframe tbody tr th {\n",
       "        vertical-align: top;\n",
       "    }\n",
       "\n",
       "    .dataframe thead th {\n",
       "        text-align: right;\n",
       "    }\n",
       "</style>\n",
       "<table border=\"1\" class=\"dataframe\">\n",
       "  <thead>\n",
       "    <tr style=\"text-align: right;\">\n",
       "      <th></th>\n",
       "      <th>path</th>\n",
       "      <th>label</th>\n",
       "    </tr>\n",
       "  </thead>\n",
       "  <tbody>\n",
       "    <tr>\n",
       "      <th>0</th>\n",
       "      <td>/home/swleocresearch/Desktop/triage-ai/dataset...</td>\n",
       "      <td>discharge</td>\n",
       "    </tr>\n",
       "    <tr>\n",
       "      <th>1</th>\n",
       "      <td>/home/swleocresearch/Desktop/triage-ai/dataset...</td>\n",
       "      <td>discharge</td>\n",
       "    </tr>\n",
       "    <tr>\n",
       "      <th>2</th>\n",
       "      <td>/home/swleocresearch/Desktop/triage-ai/dataset...</td>\n",
       "      <td>discharge</td>\n",
       "    </tr>\n",
       "    <tr>\n",
       "      <th>3</th>\n",
       "      <td>/home/swleocresearch/Desktop/triage-ai/dataset...</td>\n",
       "      <td>referral</td>\n",
       "    </tr>\n",
       "    <tr>\n",
       "      <th>4</th>\n",
       "      <td>/home/swleocresearch/Desktop/triage-ai/dataset...</td>\n",
       "      <td>surgery</td>\n",
       "    </tr>\n",
       "  </tbody>\n",
       "</table>\n",
       "</div>"
      ],
      "text/plain": [
       "                                                path      label\n",
       "0  /home/swleocresearch/Desktop/triage-ai/dataset...  discharge\n",
       "1  /home/swleocresearch/Desktop/triage-ai/dataset...  discharge\n",
       "2  /home/swleocresearch/Desktop/triage-ai/dataset...  discharge\n",
       "3  /home/swleocresearch/Desktop/triage-ai/dataset...   referral\n",
       "4  /home/swleocresearch/Desktop/triage-ai/dataset...    surgery"
      ]
     },
     "execution_count": 89,
     "metadata": {},
     "output_type": "execute_result"
    }
   ],
   "source": [
    "df_label.head()"
   ]
  },
  {
   "cell_type": "code",
   "execution_count": 119,
   "id": "f6e71699-20c5-4ef6-9778-a1e0049c4dcb",
   "metadata": {},
   "outputs": [],
   "source": [
    "import os\n",
    "import pandas as pd\n",
    "import re\n",
    "from doctr.io import DocumentFile\n",
    "from doctr.models import ocr_predictor\n",
    "import torch \n",
    "\n",
    "def get_next_character(input_string, target_char):\n",
    "    # Find the index of the target character\n",
    "    index = input_string.find(target_char)\n",
    "    \n",
    "    # If the character is found and it's not the last character\n",
    "    if index != -1 and index < len(input_string) - 1:\n",
    "        # Return the next character\n",
    "        return input_string[index + 1]\n",
    "    else:\n",
    "        return None  # Return None if the character is not found or it's the last character\n",
    "\n",
    "\n",
    "def extract_text_from_pdf(pdf_path):\n",
    "    # print(f\"Extracting text from: {pdf_path}\")\n",
    "    doc = DocumentFile.from_pdf(pdf_path)\n",
    "    device = torch.device(\"cuda:0\")\n",
    "    predictor = ocr_predictor(pretrained=True).to(device)\n",
    "    result = predictor(doc)\n",
    "    json_output = result.export()\n",
    "    \n",
    "    extracted_text = \"\"\n",
    "    for page in json_output['pages']:\n",
    "        for block in page['blocks']:\n",
    "            for line in block['lines']:\n",
    "                for word in line['words']:\n",
    "                    extracted_text += word['value'] + ' '\n",
    "                extracted_text += '\\n'\n",
    "    \n",
    "    return extracted_text\n"
   ]
  },
  {
   "cell_type": "code",
   "execution_count": 121,
   "id": "76aba3d0-e383-4a3b-903f-0ce8b5f9f60a",
   "metadata": {},
   "outputs": [
    {
     "name": "stderr",
     "output_type": "stream",
     "text": [
      "2it [00:05,  2.84s/it]"
     ]
    },
    {
     "name": "stdout",
     "output_type": "stream",
     "text": [
      "Label found: surgery\n",
      "input_file: /home/swleocresearch/Desktop/triage-ai/datasets/labelled_dataset/40364725/2023-03-07 40364725 R1.pdf, label_file: /home/swleocresearch/Desktop/triage-ai/datasets/labelled_dataset/40364725/2023-05-17 40364725 C1.pdf\n"
     ]
    },
    {
     "name": "stderr",
     "output_type": "stream",
     "text": [
      "3it [00:07,  2.36s/it]"
     ]
    },
    {
     "name": "stdout",
     "output_type": "stream",
     "text": [
      "Label found: referral\n",
      "input_file: /home/swleocresearch/Desktop/triage-ai/datasets/labelled_dataset/40199374/2021-01-25 40199374 R1.pdf, label_file: /home/swleocresearch/Desktop/triage-ai/datasets/labelled_dataset/40199374/2021-04-30 40199374 C1.pdf\n",
      "Label found: surgery\n",
      "input_file: /home/swleocresearch/Desktop/triage-ai/datasets/labelled_dataset/40010910/2023-02-13 40010910 R1.pdf, label_file: /home/swleocresearch/Desktop/triage-ai/datasets/labelled_dataset/40010910/2023-05-18 40010910 C1.pdf\n"
     ]
    },
    {
     "name": "stderr",
     "output_type": "stream",
     "text": [
      "4it [00:13,  3.69s/it]"
     ]
    },
    {
     "name": "stdout",
     "output_type": "stream",
     "text": [
      "Label found: physio\n",
      "input_file: /home/swleocresearch/Desktop/triage-ai/datasets/labelled_dataset/40010910/2024-03-13 40010910 R2.pdf, label_file: /home/swleocresearch/Desktop/triage-ai/datasets/labelled_dataset/40010910/2024-05-03 40010910 C2.pdf\n",
      "Label found: surgery\n",
      "input_file: /home/swleocresearch/Desktop/triage-ai/datasets/labelled_dataset/40227435/2023-02-22 40227435 R2.pdf, label_file: /home/swleocresearch/Desktop/triage-ai/datasets/labelled_dataset/40227435/2023-05-24 40227435 C2.pdf\n"
     ]
    },
    {
     "name": "stderr",
     "output_type": "stream",
     "text": [
      "5it [00:18,  4.07s/it]"
     ]
    },
    {
     "name": "stdout",
     "output_type": "stream",
     "text": [
      "Label found: discharge\n",
      "input_file: /home/swleocresearch/Desktop/triage-ai/datasets/labelled_dataset/40227435/2020-10-13 40227435 R1.pdf, label_file: /home/swleocresearch/Desktop/triage-ai/datasets/labelled_dataset/40227435/2020-12-29 40227435 C1.pdf\n"
     ]
    },
    {
     "name": "stderr",
     "output_type": "stream",
     "text": [
      "6it [00:20,  3.62s/it]"
     ]
    },
    {
     "name": "stdout",
     "output_type": "stream",
     "text": [
      "Label found: tests\n",
      "input_file: /home/swleocresearch/Desktop/triage-ai/datasets/labelled_dataset/40221848/2023-02-24 40221848 R1.pdf, label_file: /home/swleocresearch/Desktop/triage-ai/datasets/labelled_dataset/40221848/2023-05-12 40221848 C1.pdf\n"
     ]
    },
    {
     "name": "stderr",
     "output_type": "stream",
     "text": [
      "7it [00:23,  3.24s/it]"
     ]
    },
    {
     "name": "stdout",
     "output_type": "stream",
     "text": [
      "Label found: discharge\n",
      "input_file: /home/swleocresearch/Desktop/triage-ai/datasets/labelled_dataset/40144879/2023-03-07 40144879 R1.pdf, label_file: /home/swleocresearch/Desktop/triage-ai/datasets/labelled_dataset/40144879/2023-06-08 40144879 C1.pdf\n"
     ]
    },
    {
     "name": "stderr",
     "output_type": "stream",
     "text": [
      "8it [00:27,  3.71s/it]"
     ]
    },
    {
     "name": "stdout",
     "output_type": "stream",
     "text": [
      "Label found: surgery\n",
      "input_file: /home/swleocresearch/Desktop/triage-ai/datasets/labelled_dataset/40235378/2023-03-02 40235378 R1.pdf, label_file: /home/swleocresearch/Desktop/triage-ai/datasets/labelled_dataset/40235378/2023-04-13 40235378 C1.pdf\n"
     ]
    },
    {
     "name": "stderr",
     "output_type": "stream",
     "text": [
      "9it [00:30,  3.26s/it]"
     ]
    },
    {
     "name": "stdout",
     "output_type": "stream",
     "text": [
      "Label found: discharge\n",
      "input_file: /home/swleocresearch/Desktop/triage-ai/datasets/labelled_dataset/40139313/2023-03-14 40139313 R1.pdf, label_file: /home/swleocresearch/Desktop/triage-ai/datasets/labelled_dataset/40139313/2023-06-30 40139313 C1.pdf\n",
      "Label found: referral\n",
      "input_file: /home/swleocresearch/Desktop/triage-ai/datasets/labelled_dataset/40010615/2022-11-15 40010615 R3.pdf, label_file: /home/swleocresearch/Desktop/triage-ai/datasets/labelled_dataset/40010615/2023-08-17 40010615 C3.pdf\n",
      "Label found: discharge\n",
      "input_file: /home/swleocresearch/Desktop/triage-ai/datasets/labelled_dataset/40010615/2020-12-18 40010615 R1.pdf, label_file: /home/swleocresearch/Desktop/triage-ai/datasets/labelled_dataset/40010615/2021-01-04 40010615 C1.pdf\n"
     ]
    },
    {
     "name": "stderr",
     "output_type": "stream",
     "text": [
      "10it [00:40,  5.29s/it]"
     ]
    },
    {
     "name": "stdout",
     "output_type": "stream",
     "text": [
      "Label found: discharge\n",
      "input_file: /home/swleocresearch/Desktop/triage-ai/datasets/labelled_dataset/40010615/2020-02-07 40010615 R2.pdf, label_file: /home/swleocresearch/Desktop/triage-ai/datasets/labelled_dataset/40010615/2021-05-11 40010615 C2.pdf\n",
      "Label found: surgery\n",
      "input_file: /home/swleocresearch/Desktop/triage-ai/datasets/labelled_dataset/40333840/2023-03-20 40333840 R2.pdf, label_file: /home/swleocresearch/Desktop/triage-ai/datasets/labelled_dataset/40333840/2023-06-14 40333840 C2.pdf\n"
     ]
    },
    {
     "name": "stderr",
     "output_type": "stream",
     "text": [
      "11it [00:45,  5.25s/it]"
     ]
    },
    {
     "name": "stdout",
     "output_type": "stream",
     "text": [
      "Label found: discharge\n",
      "input_file: /home/swleocresearch/Desktop/triage-ai/datasets/labelled_dataset/40333840/2013-02-21 40333840 R1.pdf, label_file: /home/swleocresearch/Desktop/triage-ai/datasets/labelled_dataset/40333840/2013-03-28 40333840 C1.pdf\n",
      "Label found: surgery\n",
      "input_file: /home/swleocresearch/Desktop/triage-ai/datasets/labelled_dataset/40011951/2023-03-14 40011951 R2.pdf, label_file: /home/swleocresearch/Desktop/triage-ai/datasets/labelled_dataset/40011951/2023-06-13 40011951 C2.pdf\n"
     ]
    },
    {
     "name": "stderr",
     "output_type": "stream",
     "text": [
      "12it [00:51,  5.58s/it]"
     ]
    },
    {
     "name": "stdout",
     "output_type": "stream",
     "text": [
      "Label found: tests\n",
      "input_file: /home/swleocresearch/Desktop/triage-ai/datasets/labelled_dataset/40011951/2013-09-19 40011951 R1.pdf, label_file: /home/swleocresearch/Desktop/triage-ai/datasets/labelled_dataset/40011951/2013-10-21 40011951 C1.pdf\n",
      "Label found: surgery\n",
      "input_file: /home/swleocresearch/Desktop/triage-ai/datasets/labelled_dataset/40071823/2023-03-01 40071823 R3.pdf, label_file: /home/swleocresearch/Desktop/triage-ai/datasets/labelled_dataset/40071823/2023-07-26 40071823 C3.pdf\n",
      "Label found: injection\n",
      "input_file: /home/swleocresearch/Desktop/triage-ai/datasets/labelled_dataset/40071823/2020-01-17 40071823 R2.pdf, label_file: /home/swleocresearch/Desktop/triage-ai/datasets/labelled_dataset/40071823/2020-02-13 40071823 C2.pdf\n"
     ]
    },
    {
     "name": "stderr",
     "output_type": "stream",
     "text": [
      "13it [01:00,  6.55s/it]"
     ]
    },
    {
     "name": "stdout",
     "output_type": "stream",
     "text": [
      "Label found: fu\n",
      "input_file: /home/swleocresearch/Desktop/triage-ai/datasets/labelled_dataset/40071823/2019-08-02 40071823 R1.pdf, label_file: /home/swleocresearch/Desktop/triage-ai/datasets/labelled_dataset/40071823/2019-11-01 40071823 C1.pdf\n"
     ]
    },
    {
     "name": "stderr",
     "output_type": "stream",
     "text": [
      "14it [01:03,  5.56s/it]"
     ]
    },
    {
     "name": "stdout",
     "output_type": "stream",
     "text": [
      "Label found: tests\n",
      "input_file: /home/swleocresearch/Desktop/triage-ai/datasets/labelled_dataset/40036925/2023-03-14 40036925 R1.pdf, label_file: /home/swleocresearch/Desktop/triage-ai/datasets/labelled_dataset/40036925/2023-05-25 40036925 C1.pdf\n",
      "Label found: discharge\n",
      "input_file: /home/swleocresearch/Desktop/triage-ai/datasets/labelled_dataset/40076929/2023-03-21 40076929 R3.pdf, label_file: /home/swleocresearch/Desktop/triage-ai/datasets/labelled_dataset/40076929/2023-05-25 40076929 C3.pdf\n",
      "Label found: discharge\n",
      "input_file: /home/swleocresearch/Desktop/triage-ai/datasets/labelled_dataset/40076929/2015-03-20 40076929 R1.pdf, label_file: /home/swleocresearch/Desktop/triage-ai/datasets/labelled_dataset/40076929/2015-04-24 40076929 C1.pdf\n"
     ]
    },
    {
     "name": "stderr",
     "output_type": "stream",
     "text": [
      "15it [01:11,  6.30s/it]"
     ]
    },
    {
     "name": "stdout",
     "output_type": "stream",
     "text": [
      "Label found: physio\n",
      "input_file: /home/swleocresearch/Desktop/triage-ai/datasets/labelled_dataset/40076929/2022-10-27 40076929 R2.pdf, label_file: /home/swleocresearch/Desktop/triage-ai/datasets/labelled_dataset/40076929/2022-11-23 40076929 C2.pdf\n"
     ]
    },
    {
     "name": "stderr",
     "output_type": "stream",
     "text": [
      "16it [01:13,  5.03s/it]"
     ]
    },
    {
     "name": "stdout",
     "output_type": "stream",
     "text": [
      "Label found: surgery\n",
      "input_file: /home/swleocresearch/Desktop/triage-ai/datasets/labelled_dataset/40355409/2023-03-03 40355409 R1.pdf, label_file: /home/swleocresearch/Desktop/triage-ai/datasets/labelled_dataset/40355409/2023-05-19 40355409 C1.pdf\n",
      "Label found: fu\n",
      "input_file: /home/swleocresearch/Desktop/triage-ai/datasets/labelled_dataset/40114542/2016-02-12 40114542 R2.pdf, label_file: /home/swleocresearch/Desktop/triage-ai/datasets/labelled_dataset/40114542/2016-03-30 40114542 C2.pdf\n",
      "Label found: referral\n",
      "input_file: /home/swleocresearch/Desktop/triage-ai/datasets/labelled_dataset/40114542/2020-09-18 40114542 R4.pdf, label_file: /home/swleocresearch/Desktop/triage-ai/datasets/labelled_dataset/40114542/2020-10-15 40114542 C4.pdf\n",
      "Label found: injection\n",
      "input_file: /home/swleocresearch/Desktop/triage-ai/datasets/labelled_dataset/40114542/2016-09-26 40114542 R3.pdf, label_file: /home/swleocresearch/Desktop/triage-ai/datasets/labelled_dataset/40114542/2017-02-08 40114542 C3.pdf\n",
      "Label found: surgery\n",
      "input_file: /home/swleocresearch/Desktop/triage-ai/datasets/labelled_dataset/40114542/2023-03-13 40114542 R5.pdf, label_file: /home/swleocresearch/Desktop/triage-ai/datasets/labelled_dataset/40114542/2023-07-10 40114542 C5.pdf\n"
     ]
    },
    {
     "name": "stderr",
     "output_type": "stream",
     "text": [
      "17it [01:25,  7.10s/it]"
     ]
    },
    {
     "name": "stdout",
     "output_type": "stream",
     "text": [
      "No label found for /home/swleocresearch/Desktop/triage-ai/datasets/labelled_dataset/40114542/2015-09-22 40114542 C1.pdf\n",
      "Label found: surgery\n",
      "input_file: /home/swleocresearch/Desktop/triage-ai/datasets/labelled_dataset/40070927/2015-10-27 40070927 R1.pdf, label_file: /home/swleocresearch/Desktop/triage-ai/datasets/labelled_dataset/40070927/2015-11-30 40070927 C1.pdf\n"
     ]
    },
    {
     "name": "stderr",
     "output_type": "stream",
     "text": [
      "18it [01:33,  7.30s/it]"
     ]
    },
    {
     "name": "stdout",
     "output_type": "stream",
     "text": [
      "Label found: tests\n",
      "input_file: /home/swleocresearch/Desktop/triage-ai/datasets/labelled_dataset/40070927/2023-02-01 40070927 R2.pdf, label_file: /home/swleocresearch/Desktop/triage-ai/datasets/labelled_dataset/40070927/2023-05-24 40070927 C2.pdf\n"
     ]
    },
    {
     "name": "stderr",
     "output_type": "stream",
     "text": [
      "19it [01:36,  6.15s/it]"
     ]
    },
    {
     "name": "stdout",
     "output_type": "stream",
     "text": [
      "No label found for /home/swleocresearch/Desktop/triage-ai/datasets/labelled_dataset/40267408/2023-05-15 40267408 C1.pdf\n",
      "Label found: injection\n",
      "input_file: /home/swleocresearch/Desktop/triage-ai/datasets/labelled_dataset/40312973/2019-03-19 40312973 R2.pdf, label_file: /home/swleocresearch/Desktop/triage-ai/datasets/labelled_dataset/40312973/2019-05-14 40312973 C2.pdf\n",
      "Label found: discharge\n",
      "input_file: /home/swleocresearch/Desktop/triage-ai/datasets/labelled_dataset/40312973/2021-08-20 40312973 R3.pdf, label_file: /home/swleocresearch/Desktop/triage-ai/datasets/labelled_dataset/40312973/2021-12-06 40312973 C3.pdf\n"
     ]
    },
    {
     "name": "stderr",
     "output_type": "stream",
     "text": [
      "20it [02:04, 12.69s/it]"
     ]
    },
    {
     "name": "stdout",
     "output_type": "stream",
     "text": [
      "Label found: surgery\n",
      "input_file: /home/swleocresearch/Desktop/triage-ai/datasets/labelled_dataset/40312973/2014-02-25 40312973 R1.pdf, label_file: /home/swleocresearch/Desktop/triage-ai/datasets/labelled_dataset/40312973/2014-03-31 40312973 C1.pdf\n",
      "Label found: surgery\n",
      "input_file: /home/swleocresearch/Desktop/triage-ai/datasets/labelled_dataset/40361423/2023-03-06 40361423 R1.pdf, label_file: /home/swleocresearch/Desktop/triage-ai/datasets/labelled_dataset/40361423/2023-05-17 40361423 C1.pdf\n"
     ]
    },
    {
     "name": "stderr",
     "output_type": "stream",
     "text": [
      "21it [02:11, 11.03s/it]"
     ]
    },
    {
     "name": "stdout",
     "output_type": "stream",
     "text": [
      "Label found: fu\n",
      "input_file: /home/swleocresearch/Desktop/triage-ai/datasets/labelled_dataset/40361423/2024-04-03 40361423 R2.pdf, label_file: /home/swleocresearch/Desktop/triage-ai/datasets/labelled_dataset/40361423/2024-06-20 40361423 C2.pdf\n"
     ]
    },
    {
     "name": "stderr",
     "output_type": "stream",
     "text": [
      "22it [02:14,  8.58s/it]"
     ]
    },
    {
     "name": "stdout",
     "output_type": "stream",
     "text": [
      "No label found for /home/swleocresearch/Desktop/triage-ai/datasets/labelled_dataset/40313724/2023-05-18 40313724 C1.pdf\n"
     ]
    },
    {
     "name": "stderr",
     "output_type": "stream",
     "text": [
      "23it [02:17,  6.68s/it]"
     ]
    },
    {
     "name": "stdout",
     "output_type": "stream",
     "text": [
      "Label found: referral\n",
      "input_file: /home/swleocresearch/Desktop/triage-ai/datasets/labelled_dataset/40175278/2023-01-30 40175278 R1.pdf, label_file: /home/swleocresearch/Desktop/triage-ai/datasets/labelled_dataset/40175278/2023-04-03 40175278 C1.pdf\n",
      "Label found: discharge\n",
      "input_file: /home/swleocresearch/Desktop/triage-ai/datasets/labelled_dataset/40362743/2015-12-15 40362743 R1.pdf, label_file: /home/swleocresearch/Desktop/triage-ai/datasets/labelled_dataset/40362743/2016-01-06 40362743 C1.pdf\n",
      "Label found: discharge\n",
      "input_file: /home/swleocresearch/Desktop/triage-ai/datasets/labelled_dataset/40362743/2024-05-23 40362743 R3.pdf, label_file: /home/swleocresearch/Desktop/triage-ai/datasets/labelled_dataset/40362743/2024-06-28 40362743 C3.pdf\n"
     ]
    },
    {
     "name": "stderr",
     "output_type": "stream",
     "text": [
      "24it [02:29,  8.33s/it]"
     ]
    },
    {
     "name": "stdout",
     "output_type": "stream",
     "text": [
      "Label found: fu\n",
      "input_file: /home/swleocresearch/Desktop/triage-ai/datasets/labelled_dataset/40362743/2023-03-20 40362743 R2.pdf, label_file: /home/swleocresearch/Desktop/triage-ai/datasets/labelled_dataset/40362743/2023-04-24 40362743 C2.pdf\n",
      "Label found: discharge\n",
      "input_file: /home/swleocresearch/Desktop/triage-ai/datasets/labelled_dataset/40010914/2019-06-24 40010914 R3.pdf, label_file: /home/swleocresearch/Desktop/triage-ai/datasets/labelled_dataset/40010914/2019-10-29 40010914 C3.pdf\n",
      "Label found: tests\n",
      "input_file: /home/swleocresearch/Desktop/triage-ai/datasets/labelled_dataset/40010914/2011-06-06 40010914 R1.pdf, label_file: /home/swleocresearch/Desktop/triage-ai/datasets/labelled_dataset/40010914/2011-06-14 40010914 C1.pdf\n",
      "Label found: surgery\n",
      "input_file: /home/swleocresearch/Desktop/triage-ai/datasets/labelled_dataset/40010914/2017-10-31 40010914 R2.pdf, label_file: /home/swleocresearch/Desktop/triage-ai/datasets/labelled_dataset/40010914/2017-11-27 40010914 C2.pdf\n"
     ]
    },
    {
     "name": "stderr",
     "output_type": "stream",
     "text": [
      "25it [02:42,  9.68s/it]"
     ]
    },
    {
     "name": "stdout",
     "output_type": "stream",
     "text": [
      "Label found: surgery\n",
      "input_file: /home/swleocresearch/Desktop/triage-ai/datasets/labelled_dataset/40010914/2023-03-07 40010914 R4.pdf, label_file: /home/swleocresearch/Desktop/triage-ai/datasets/labelled_dataset/40010914/2023-06-17 40010914 C4.pdf\n"
     ]
    },
    {
     "name": "stderr",
     "output_type": "stream",
     "text": [
      "26it [02:44,  7.62s/it]"
     ]
    },
    {
     "name": "stdout",
     "output_type": "stream",
     "text": [
      "No label found for /home/swleocresearch/Desktop/triage-ai/datasets/labelled_dataset/40197232/2023-03-14 40197232 C1.pdf\n",
      "Label found: discharge\n",
      "input_file: /home/swleocresearch/Desktop/triage-ai/datasets/labelled_dataset/40037101/2023-03-16 40037101 R3.pdf, label_file: /home/swleocresearch/Desktop/triage-ai/datasets/labelled_dataset/40037101/2023-04-24 40037101 C3.pdf\n",
      "Label found: referral\n",
      "input_file: /home/swleocresearch/Desktop/triage-ai/datasets/labelled_dataset/40037101/2022-05-24 40037101 R2.pdf, label_file: /home/swleocresearch/Desktop/triage-ai/datasets/labelled_dataset/40037101/2022-07-06 40037101 C2.pdf\n"
     ]
    },
    {
     "name": "stderr",
     "output_type": "stream",
     "text": [
      "27it [02:53,  7.83s/it]"
     ]
    },
    {
     "name": "stdout",
     "output_type": "stream",
     "text": [
      "Label found: discharge\n",
      "input_file: /home/swleocresearch/Desktop/triage-ai/datasets/labelled_dataset/40037101/2019-05-29 40037101 R1.pdf, label_file: /home/swleocresearch/Desktop/triage-ai/datasets/labelled_dataset/40037101/2019-10-08 40037101 C1.pdf\n",
      "Label found: surgery\n",
      "input_file: /home/swleocresearch/Desktop/triage-ai/datasets/labelled_dataset/40079822/2018-10-11 40079822 R1.pdf, label_file: /home/swleocresearch/Desktop/triage-ai/datasets/labelled_dataset/40079822/2018-11-07 40079822 C1.pdf\n"
     ]
    },
    {
     "name": "stderr",
     "output_type": "stream",
     "text": [
      "28it [03:01,  8.09s/it]"
     ]
    },
    {
     "name": "stdout",
     "output_type": "stream",
     "text": [
      "Label found: surgery\n",
      "input_file: /home/swleocresearch/Desktop/triage-ai/datasets/labelled_dataset/40079822/2023-03-09 40079822 R2.pdf, label_file: /home/swleocresearch/Desktop/triage-ai/datasets/labelled_dataset/40079822/2023-05-12 40079822 C2.pdf\n",
      "Label found: tests\n",
      "input_file: /home/swleocresearch/Desktop/triage-ai/datasets/labelled_dataset/40173970/2023-03-06 40173970 R2.pdf, label_file: /home/swleocresearch/Desktop/triage-ai/datasets/labelled_dataset/40173970/2023-04-13 40173970 C2.pdf\n",
      "Label found: discharge\n",
      "input_file: /home/swleocresearch/Desktop/triage-ai/datasets/labelled_dataset/40173970/2024-03-09 40173970 R3.pdf, label_file: /home/swleocresearch/Desktop/triage-ai/datasets/labelled_dataset/40173970/2024-05-23 40173970 C3.pdf\n"
     ]
    },
    {
     "name": "stderr",
     "output_type": "stream",
     "text": [
      "29it [03:09,  7.94s/it]"
     ]
    },
    {
     "name": "stdout",
     "output_type": "stream",
     "text": [
      "Label found: discharge\n",
      "input_file: /home/swleocresearch/Desktop/triage-ai/datasets/labelled_dataset/40173970/2016-12-30 40173970 R1.pdf, label_file: /home/swleocresearch/Desktop/triage-ai/datasets/labelled_dataset/40173970/2017-02-14 40173970 C1.pdf\n",
      "Label found: surgery\n",
      "input_file: /home/swleocresearch/Desktop/triage-ai/datasets/labelled_dataset/40282884/2023-02-24 40282884 R2.pdf, label_file: /home/swleocresearch/Desktop/triage-ai/datasets/labelled_dataset/40282884/2023-05-03 40282884 C2.pdf\n"
     ]
    },
    {
     "name": "stderr",
     "output_type": "stream",
     "text": [
      "30it [03:14,  7.09s/it]"
     ]
    },
    {
     "name": "stdout",
     "output_type": "stream",
     "text": [
      "Label found: surgery\n",
      "input_file: /home/swleocresearch/Desktop/triage-ai/datasets/labelled_dataset/40282884/2022-05-27 40282884 R1.pdf, label_file: /home/swleocresearch/Desktop/triage-ai/datasets/labelled_dataset/40282884/2022-08-03 40282884 C1.pdf\n",
      "Label found: discharge\n",
      "input_file: /home/swleocresearch/Desktop/triage-ai/datasets/labelled_dataset/40069800/2022-09-01 40069800 R1.pdf, label_file: /home/swleocresearch/Desktop/triage-ai/datasets/labelled_dataset/40069800/2022-12-22 40069800 C1.pdf\n"
     ]
    },
    {
     "name": "stderr",
     "output_type": "stream",
     "text": [
      "31it [03:21,  7.05s/it]"
     ]
    },
    {
     "name": "stdout",
     "output_type": "stream",
     "text": [
      "Label found: surgery\n",
      "input_file: /home/swleocresearch/Desktop/triage-ai/datasets/labelled_dataset/40069800/2023-01-26 40069800 R2.pdf, label_file: /home/swleocresearch/Desktop/triage-ai/datasets/labelled_dataset/40069800/2023-04-18 40069800 C2.pdf\n"
     ]
    },
    {
     "name": "stderr",
     "output_type": "stream",
     "text": [
      "32it [03:25,  6.12s/it]"
     ]
    },
    {
     "name": "stdout",
     "output_type": "stream",
     "text": [
      "No label found for /home/swleocresearch/Desktop/triage-ai/datasets/labelled_dataset/40153022/2023-03-01 40153022 C1.pdf\n"
     ]
    },
    {
     "name": "stderr",
     "output_type": "stream",
     "text": [
      "33it [03:28,  5.23s/it]"
     ]
    },
    {
     "name": "stdout",
     "output_type": "stream",
     "text": [
      "No label found for /home/swleocresearch/Desktop/triage-ai/datasets/labelled_dataset/40424875/2023-04-28 40424875 C1.pdf\n",
      "Label found: tests\n",
      "input_file: /home/swleocresearch/Desktop/triage-ai/datasets/labelled_dataset/40049969/2023-03-13 40049969 R3.pdf, label_file: /home/swleocresearch/Desktop/triage-ai/datasets/labelled_dataset/40049969/2023-06-06 40049969 C3.pdf\n",
      "Label found: surgery\n",
      "input_file: /home/swleocresearch/Desktop/triage-ai/datasets/labelled_dataset/40049969/2016-05-20 40049969 R2.pdf, label_file: /home/swleocresearch/Desktop/triage-ai/datasets/labelled_dataset/40049969/2016-06-10 40049969 C2.pdf\n"
     ]
    },
    {
     "name": "stderr",
     "output_type": "stream",
     "text": [
      "34it [03:35,  5.75s/it]"
     ]
    },
    {
     "name": "stdout",
     "output_type": "stream",
     "text": [
      "Label found: fu\n",
      "input_file: /home/swleocresearch/Desktop/triage-ai/datasets/labelled_dataset/40049969/2015-04-01 40049969 R1.pdf, label_file: /home/swleocresearch/Desktop/triage-ai/datasets/labelled_dataset/40049969/2015-06-05 40049969 C1.pdf\n"
     ]
    },
    {
     "name": "stderr",
     "output_type": "stream",
     "text": [
      "35it [03:38,  4.97s/it]"
     ]
    },
    {
     "name": "stdout",
     "output_type": "stream",
     "text": [
      "Label found: surgery\n",
      "input_file: /home/swleocresearch/Desktop/triage-ai/datasets/labelled_dataset/40335026/2023-02-28 40335026 R1.pdf, label_file: /home/swleocresearch/Desktop/triage-ai/datasets/labelled_dataset/40335026/2023-07-25 40335026 C1.pdf\n"
     ]
    },
    {
     "name": "stderr",
     "output_type": "stream",
     "text": [
      "36it [03:41,  4.39s/it]"
     ]
    },
    {
     "name": "stdout",
     "output_type": "stream",
     "text": [
      "Label found: surgery\n",
      "input_file: /home/swleocresearch/Desktop/triage-ai/datasets/labelled_dataset/40014307/2023-02-07 40014307 R1.pdf, label_file: /home/swleocresearch/Desktop/triage-ai/datasets/labelled_dataset/40014307/2023-05-03 40014307 C1.pdf\n"
     ]
    },
    {
     "name": "stderr",
     "output_type": "stream",
     "text": [
      "37it [03:45,  4.20s/it]"
     ]
    },
    {
     "name": "stdout",
     "output_type": "stream",
     "text": [
      "No label found for /home/swleocresearch/Desktop/triage-ai/datasets/labelled_dataset/40424353/2023-09-04 40424353 C1.pdf\n"
     ]
    },
    {
     "name": "stderr",
     "output_type": "stream",
     "text": [
      "38it [03:49,  4.08s/it]"
     ]
    },
    {
     "name": "stdout",
     "output_type": "stream",
     "text": [
      "No label found for /home/swleocresearch/Desktop/triage-ai/datasets/labelled_dataset/40389256/2023-07-12 40389256 C1.pdf\n"
     ]
    },
    {
     "name": "stderr",
     "output_type": "stream",
     "text": [
      "39it [03:52,  3.64s/it]"
     ]
    },
    {
     "name": "stdout",
     "output_type": "stream",
     "text": [
      "No label found for /home/swleocresearch/Desktop/triage-ai/datasets/labelled_dataset/40144644/2023-06-12 40144644 C1.pdf\n"
     ]
    },
    {
     "name": "stderr",
     "output_type": "stream",
     "text": [
      "40it [03:54,  3.26s/it]"
     ]
    },
    {
     "name": "stdout",
     "output_type": "stream",
     "text": [
      "Label found: fu\n",
      "input_file: /home/swleocresearch/Desktop/triage-ai/datasets/labelled_dataset/40269867/2023-03-16 40269867 R1.pdf, label_file: /home/swleocresearch/Desktop/triage-ai/datasets/labelled_dataset/40269867/2023-06-16 40269867 C1.pdf\n",
      "Label found: surgery\n",
      "input_file: /home/swleocresearch/Desktop/triage-ai/datasets/labelled_dataset/40146615/2018-06-12 40146615 R1.pdf, label_file: /home/swleocresearch/Desktop/triage-ai/datasets/labelled_dataset/40146615/2018-06-29 40146615 C1.pdf\n"
     ]
    },
    {
     "name": "stderr",
     "output_type": "stream",
     "text": [
      "41it [04:01,  4.41s/it]"
     ]
    },
    {
     "name": "stdout",
     "output_type": "stream",
     "text": [
      "Label found: surgery\n",
      "input_file: /home/swleocresearch/Desktop/triage-ai/datasets/labelled_dataset/40146615/2020-09-02 40146615 R2.pdf, label_file: /home/swleocresearch/Desktop/triage-ai/datasets/labelled_dataset/40146615/2021-03-02 40146615 C2.pdf\n"
     ]
    },
    {
     "name": "stderr",
     "output_type": "stream",
     "text": [
      "42it [04:04,  3.97s/it]"
     ]
    },
    {
     "name": "stdout",
     "output_type": "stream",
     "text": [
      "Label found: surgery\n",
      "input_file: /home/swleocresearch/Desktop/triage-ai/datasets/labelled_dataset/40206748/2023-03-16 40206748 R1.pdf, label_file: /home/swleocresearch/Desktop/triage-ai/datasets/labelled_dataset/40206748/2023-06-08 40206748 C1.pdf\n"
     ]
    },
    {
     "name": "stderr",
     "output_type": "stream",
     "text": [
      "43it [04:06,  3.52s/it]"
     ]
    },
    {
     "name": "stdout",
     "output_type": "stream",
     "text": [
      "No label found for /home/swleocresearch/Desktop/triage-ai/datasets/labelled_dataset/40156674/2023-04-17 40156674 C1.pdf\n"
     ]
    },
    {
     "name": "stderr",
     "output_type": "stream",
     "text": [
      "44it [04:09,  3.35s/it]"
     ]
    },
    {
     "name": "stdout",
     "output_type": "stream",
     "text": [
      "Label found: physio\n",
      "input_file: /home/swleocresearch/Desktop/triage-ai/datasets/labelled_dataset/40425442/2023-03-13 40425442 R1.pdf, label_file: /home/swleocresearch/Desktop/triage-ai/datasets/labelled_dataset/40425442/2023-03-27 40425442 C1.pdf\n"
     ]
    },
    {
     "name": "stderr",
     "output_type": "stream",
     "text": [
      "45it [04:14,  3.72s/it]"
     ]
    },
    {
     "name": "stdout",
     "output_type": "stream",
     "text": [
      "Label found: discharge\n",
      "input_file: /home/swleocresearch/Desktop/triage-ai/datasets/labelled_dataset/40003163/2023-02-24 40003163 R1.pdf, label_file: /home/swleocresearch/Desktop/triage-ai/datasets/labelled_dataset/40003163/2023-05-11 40003163 C1.pdf\n"
     ]
    },
    {
     "name": "stderr",
     "output_type": "stream",
     "text": [
      "46it [04:18,  3.83s/it]"
     ]
    },
    {
     "name": "stdout",
     "output_type": "stream",
     "text": [
      "Label found: discharge\n",
      "input_file: /home/swleocresearch/Desktop/triage-ai/datasets/labelled_dataset/40243947/2023-02-27 40243947 R1.pdf, label_file: /home/swleocresearch/Desktop/triage-ai/datasets/labelled_dataset/40243947/2024-02-02 40243947 C1.pdf\n",
      "Label found: injection\n",
      "input_file: /home/swleocresearch/Desktop/triage-ai/datasets/labelled_dataset/40246214/2023-06-08 40246214 R2.pdf, label_file: /home/swleocresearch/Desktop/triage-ai/datasets/labelled_dataset/40246214/2023-08-01 40246214 C2.pdf\n"
     ]
    },
    {
     "name": "stderr",
     "output_type": "stream",
     "text": [
      "47it [04:24,  4.56s/it]"
     ]
    },
    {
     "name": "stdout",
     "output_type": "stream",
     "text": [
      "Label found: fu\n",
      "input_file: /home/swleocresearch/Desktop/triage-ai/datasets/labelled_dataset/40246214/2014-07-23 40246214 R1.pdf, label_file: /home/swleocresearch/Desktop/triage-ai/datasets/labelled_dataset/40246214/2014-08-11 40246214 C1.pdf\n",
      "Label found: discharge\n",
      "input_file: /home/swleocresearch/Desktop/triage-ai/datasets/labelled_dataset/40085428/2020-06-03 40085428 R2.pdf, label_file: /home/swleocresearch/Desktop/triage-ai/datasets/labelled_dataset/40085428/2020-08-05 40085428 C2.pdf\n",
      "Label found: tests\n",
      "input_file: /home/swleocresearch/Desktop/triage-ai/datasets/labelled_dataset/40085428/2022-08-19 40085428 R6.pdf, label_file: /home/swleocresearch/Desktop/triage-ai/datasets/labelled_dataset/40085428/2022-09-01 40085428 C6.pdf\n",
      "Label found: injection\n",
      "input_file: /home/swleocresearch/Desktop/triage-ai/datasets/labelled_dataset/40085428/2024-03-12 40085428 R8.pdf, label_file: /home/swleocresearch/Desktop/triage-ai/datasets/labelled_dataset/40085428/2024-07-02 40085428 C8.pdf\n",
      "Label found: referral\n",
      "input_file: /home/swleocresearch/Desktop/triage-ai/datasets/labelled_dataset/40085428/2019-08-02 40085428 R1.pdf, label_file: /home/swleocresearch/Desktop/triage-ai/datasets/labelled_dataset/40085428/2019-09-10 40085428 C1.pdf\n",
      "Label found: discharge\n",
      "input_file: /home/swleocresearch/Desktop/triage-ai/datasets/labelled_dataset/40085428/2020-10-19 40085428 R3.pdf, label_file: /home/swleocresearch/Desktop/triage-ai/datasets/labelled_dataset/40085428/2020-12-16 40085428 C3.pdf\n",
      "Label found: tests\n",
      "input_file: /home/swleocresearch/Desktop/triage-ai/datasets/labelled_dataset/40085428/2023-03-14 40085428 R7.pdf, label_file: /home/swleocresearch/Desktop/triage-ai/datasets/labelled_dataset/40085428/2023-06-07 40085428 C7.pdf\n",
      "Label found: physio\n",
      "input_file: /home/swleocresearch/Desktop/triage-ai/datasets/labelled_dataset/40085428/2022-03-11 40085428 R5.pdf, label_file: /home/swleocresearch/Desktop/triage-ai/datasets/labelled_dataset/40085428/2022-03-25 40085428 C5.pdf\n"
     ]
    },
    {
     "name": "stderr",
     "output_type": "stream",
     "text": [
      "48it [04:45,  9.51s/it]"
     ]
    },
    {
     "name": "stdout",
     "output_type": "stream",
     "text": [
      "Label found: discharge\n",
      "input_file: /home/swleocresearch/Desktop/triage-ai/datasets/labelled_dataset/40085428/2021-02-05 40085428 R4.pdf, label_file: /home/swleocresearch/Desktop/triage-ai/datasets/labelled_dataset/40085428/2021-02-19 40085428 C4.pdf\n",
      "Label found: surgery\n",
      "input_file: /home/swleocresearch/Desktop/triage-ai/datasets/labelled_dataset/40100134/2022-05-20 40100134 R1.pdf, label_file: /home/swleocresearch/Desktop/triage-ai/datasets/labelled_dataset/40100134/2022-06-07 40100134 C1.pdf\n"
     ]
    },
    {
     "name": "stderr",
     "output_type": "stream",
     "text": [
      "49it [04:51,  8.43s/it]"
     ]
    },
    {
     "name": "stdout",
     "output_type": "stream",
     "text": [
      "Label found: tests\n",
      "input_file: /home/swleocresearch/Desktop/triage-ai/datasets/labelled_dataset/40100134/2023-03-14 40100134 R2.pdf, label_file: /home/swleocresearch/Desktop/triage-ai/datasets/labelled_dataset/40100134/2023-05-24 40100134 C2.pdf\n"
     ]
    },
    {
     "name": "stderr",
     "output_type": "stream",
     "text": [
      "50it [04:54,  6.65s/it]"
     ]
    },
    {
     "name": "stdout",
     "output_type": "stream",
     "text": [
      "Label found: discharge\n",
      "input_file: /home/swleocresearch/Desktop/triage-ai/datasets/labelled_dataset/40186168/2023-02-27 40186168 R1.pdf, label_file: /home/swleocresearch/Desktop/triage-ai/datasets/labelled_dataset/40186168/2023-05-05 40186168 C1.pdf\n",
      "Label found: fu\n",
      "input_file: /home/swleocresearch/Desktop/triage-ai/datasets/labelled_dataset/40171428/2015-12-03 40171428 R1.pdf, label_file: /home/swleocresearch/Desktop/triage-ai/datasets/labelled_dataset/40171428/2016-01-19 40171428 C1.pdf\n"
     ]
    },
    {
     "name": "stderr",
     "output_type": "stream",
     "text": [
      "51it [04:59,  6.36s/it]"
     ]
    },
    {
     "name": "stdout",
     "output_type": "stream",
     "text": [
      "Label found: surgery\n",
      "input_file: /home/swleocresearch/Desktop/triage-ai/datasets/labelled_dataset/40171428/2023-02-03 40171428 R2.pdf, label_file: /home/swleocresearch/Desktop/triage-ai/datasets/labelled_dataset/40171428/2023-06-16 40171428 C2.pdf\n"
     ]
    },
    {
     "name": "stderr",
     "output_type": "stream",
     "text": [
      "52it [05:03,  5.58s/it]"
     ]
    },
    {
     "name": "stdout",
     "output_type": "stream",
     "text": [
      "Label found: fu\n",
      "input_file: /home/swleocresearch/Desktop/triage-ai/datasets/labelled_dataset/40297917/2023-02-09 40297917 R1.pdf, label_file: /home/swleocresearch/Desktop/triage-ai/datasets/labelled_dataset/40297917/2023-03-25 40297917 C1.pdf\n",
      "Label found: surgery\n",
      "input_file: /home/swleocresearch/Desktop/triage-ai/datasets/labelled_dataset/40418615/2023-03-13 40418615 R1.pdf, label_file: /home/swleocresearch/Desktop/triage-ai/datasets/labelled_dataset/40418615/2023-06-09 40418615 C1.pdf\n"
     ]
    },
    {
     "name": "stderr",
     "output_type": "stream",
     "text": [
      "53it [05:11,  6.34s/it]"
     ]
    },
    {
     "name": "stdout",
     "output_type": "stream",
     "text": [
      "Label found: tests\n",
      "input_file: /home/swleocresearch/Desktop/triage-ai/datasets/labelled_dataset/40418615/2024-01-05 40418615 R2.pdf, label_file: /home/swleocresearch/Desktop/triage-ai/datasets/labelled_dataset/40418615/2024-07-28 40418615 C2.pdf\n",
      "Label found: fu\n",
      "input_file: /home/swleocresearch/Desktop/triage-ai/datasets/labelled_dataset/40272557/2023-04-21 40272557 R4.pdf, label_file: /home/swleocresearch/Desktop/triage-ai/datasets/labelled_dataset/40272557/2023-06-07 40272557 C4.pdf\n",
      "Label found: fu\n",
      "input_file: /home/swleocresearch/Desktop/triage-ai/datasets/labelled_dataset/40272557/2020-06-12 40272557 R2.pdf, label_file: /home/swleocresearch/Desktop/triage-ai/datasets/labelled_dataset/40272557/2020-06-19 40272557 C2.pdf\n",
      "Label found: discharge\n",
      "input_file: /home/swleocresearch/Desktop/triage-ai/datasets/labelled_dataset/40272557/2013-11-01 40272557 R1.pdf, label_file: /home/swleocresearch/Desktop/triage-ai/datasets/labelled_dataset/40272557/2014-02-10 40272557 C1.pdf\n"
     ]
    },
    {
     "name": "stderr",
     "output_type": "stream",
     "text": [
      "54it [05:22,  7.67s/it]"
     ]
    },
    {
     "name": "stdout",
     "output_type": "stream",
     "text": [
      "Label found: tests\n",
      "input_file: /home/swleocresearch/Desktop/triage-ai/datasets/labelled_dataset/40272557/2020-07-29 40272557 R3.pdf, label_file: /home/swleocresearch/Desktop/triage-ai/datasets/labelled_dataset/40272557/2020-09-22 40272557 C3.pdf\n",
      "Label found: discharge\n",
      "input_file: /home/swleocresearch/Desktop/triage-ai/datasets/labelled_dataset/40232873/2014-03-07 40232873 R1.pdf, label_file: /home/swleocresearch/Desktop/triage-ai/datasets/labelled_dataset/40232873/2014-03-26 40232873 C1.pdf\n"
     ]
    },
    {
     "name": "stderr",
     "output_type": "stream",
     "text": [
      "55it [05:27,  6.83s/it]"
     ]
    },
    {
     "name": "stdout",
     "output_type": "stream",
     "text": [
      "Label found: discharge\n",
      "input_file: /home/swleocresearch/Desktop/triage-ai/datasets/labelled_dataset/40232873/2023-02-09 40232873 R2.pdf, label_file: /home/swleocresearch/Desktop/triage-ai/datasets/labelled_dataset/40232873/2023-06-06 40232873 C2.pdf\n",
      "Label found: injection\n",
      "input_file: /home/swleocresearch/Desktop/triage-ai/datasets/labelled_dataset/40291045/2020-08-28 40291045 R1.pdf, label_file: /home/swleocresearch/Desktop/triage-ai/datasets/labelled_dataset/40291045/2020-09-14 40291045 C1.pdf\n",
      "Label found: surgery\n",
      "input_file: /home/swleocresearch/Desktop/triage-ai/datasets/labelled_dataset/40291045/2023-03-06 40291045 R2.pdf, label_file: /home/swleocresearch/Desktop/triage-ai/datasets/labelled_dataset/40291045/2023-05-16 40291045 C2.pdf\n"
     ]
    },
    {
     "name": "stderr",
     "output_type": "stream",
     "text": [
      "56it [05:37,  7.89s/it]"
     ]
    },
    {
     "name": "stdout",
     "output_type": "stream",
     "text": [
      "No label found for /home/swleocresearch/Desktop/triage-ai/datasets/labelled_dataset/40291045/2023-05-22 40291045 C3.pdf\n"
     ]
    },
    {
     "name": "stderr",
     "output_type": "stream",
     "text": [
      "57it [05:40,  6.18s/it]"
     ]
    },
    {
     "name": "stdout",
     "output_type": "stream",
     "text": [
      "Label found: surgery\n",
      "input_file: /home/swleocresearch/Desktop/triage-ai/datasets/labelled_dataset/40089317/2023-02-03 40089317 R1.pdf, label_file: /home/swleocresearch/Desktop/triage-ai/datasets/labelled_dataset/40089317/2023-04-26 40089317 C1.pdf\n",
      "Label found: tests\n",
      "input_file: /home/swleocresearch/Desktop/triage-ai/datasets/labelled_dataset/40075996/2019-11-18 40075996 R2.pdf, label_file: /home/swleocresearch/Desktop/triage-ai/datasets/labelled_dataset/40075996/2019-12-20 40075996 C2.pdf\n",
      "Label found: tests\n",
      "input_file: /home/swleocresearch/Desktop/triage-ai/datasets/labelled_dataset/40075996/2011-04-11 40075996 R1.pdf, label_file: /home/swleocresearch/Desktop/triage-ai/datasets/labelled_dataset/40075996/2011-05-19 40075996 C1.pdf\n"
     ]
    },
    {
     "name": "stderr",
     "output_type": "stream",
     "text": [
      "58it [05:49,  7.07s/it]"
     ]
    },
    {
     "name": "stdout",
     "output_type": "stream",
     "text": [
      "Label found: discharge\n",
      "input_file: /home/swleocresearch/Desktop/triage-ai/datasets/labelled_dataset/40075996/2023-03-21 40075996 R3.pdf, label_file: /home/swleocresearch/Desktop/triage-ai/datasets/labelled_dataset/40075996/2023-09-06 40075996 C3.pdf\n",
      "Label found: fu\n",
      "input_file: /home/swleocresearch/Desktop/triage-ai/datasets/labelled_dataset/40259355/2023-03-16 40259355 R2.pdf, label_file: /home/swleocresearch/Desktop/triage-ai/datasets/labelled_dataset/40259355/2023-05-25 40259355 C2.pdf\n"
     ]
    },
    {
     "name": "stderr",
     "output_type": "stream",
     "text": [
      "59it [05:56,  7.09s/it]"
     ]
    },
    {
     "name": "stdout",
     "output_type": "stream",
     "text": [
      "Label found: discharge\n",
      "input_file: /home/swleocresearch/Desktop/triage-ai/datasets/labelled_dataset/40259355/2022-05-10 40259355 R1.pdf, label_file: /home/swleocresearch/Desktop/triage-ai/datasets/labelled_dataset/40259355/2022-05-23 40259355 C1.pdf\n",
      "Label found: surgery\n",
      "input_file: /home/swleocresearch/Desktop/triage-ai/datasets/labelled_dataset/40053531/2023-03-13 40053531 R2.pdf, label_file: /home/swleocresearch/Desktop/triage-ai/datasets/labelled_dataset/40053531/2023-07-28 40053531 C2.pdf\n"
     ]
    },
    {
     "name": "stderr",
     "output_type": "stream",
     "text": [
      "60it [06:04,  7.31s/it]"
     ]
    },
    {
     "name": "stdout",
     "output_type": "stream",
     "text": [
      "Label found: surgery\n",
      "input_file: /home/swleocresearch/Desktop/triage-ai/datasets/labelled_dataset/40053531/2021-09-23 40053531 R1.pdf, label_file: /home/swleocresearch/Desktop/triage-ai/datasets/labelled_dataset/40053531/2021-01-06 40053531 C1.pdf\n",
      "Label found: tests\n",
      "input_file: /home/swleocresearch/Desktop/triage-ai/datasets/labelled_dataset/40083586/2023-09-21 40083586 R2.pdf, label_file: /home/swleocresearch/Desktop/triage-ai/datasets/labelled_dataset/40083586/2023-11-27 40083586 C2.pdf\n"
     ]
    },
    {
     "name": "stderr",
     "output_type": "stream",
     "text": [
      "61it [06:10,  7.17s/it]"
     ]
    },
    {
     "name": "stdout",
     "output_type": "stream",
     "text": [
      "Label found: tests\n",
      "input_file: /home/swleocresearch/Desktop/triage-ai/datasets/labelled_dataset/40083586/2023-02-02 40083586 R1.pdf, label_file: /home/swleocresearch/Desktop/triage-ai/datasets/labelled_dataset/40083586/2023-04-19 40083586 C1.pdf\n"
     ]
    },
    {
     "name": "stderr",
     "output_type": "stream",
     "text": [
      "62it [06:14,  6.16s/it]"
     ]
    },
    {
     "name": "stdout",
     "output_type": "stream",
     "text": [
      "Label found: surgery\n",
      "input_file: /home/swleocresearch/Desktop/triage-ai/datasets/labelled_dataset/40329532/2023-02-07 40329532 R1.pdf, label_file: /home/swleocresearch/Desktop/triage-ai/datasets/labelled_dataset/40329532/2023-04-03 40329532 C1.pdf\n",
      "Label found: tests\n",
      "input_file: /home/swleocresearch/Desktop/triage-ai/datasets/labelled_dataset/40215441/2023-03-23 40215441 R2.pdf, label_file: /home/swleocresearch/Desktop/triage-ai/datasets/labelled_dataset/40215441/2023-07-10 40215441 C2.pdf\n",
      "Label found: discharge\n",
      "input_file: /home/swleocresearch/Desktop/triage-ai/datasets/labelled_dataset/40215441/2023-05-15 40215441 R3.pdf, label_file: /home/swleocresearch/Desktop/triage-ai/datasets/labelled_dataset/40215441/2023-10-13 40215441 C3.pdf\n"
     ]
    },
    {
     "name": "stderr",
     "output_type": "stream",
     "text": [
      "63it [06:24,  6.10s/it]"
     ]
    },
    {
     "name": "stdout",
     "output_type": "stream",
     "text": [
      "Label found: tests\n",
      "input_file: /home/swleocresearch/Desktop/triage-ai/datasets/labelled_dataset/40215441/2023-03-16 40215441 R1.pdf, label_file: /home/swleocresearch/Desktop/triage-ai/datasets/labelled_dataset/40215441/2023-06-16 40215441 C1.pdf\n"
     ]
    },
    {
     "name": "stderr",
     "output_type": "stream",
     "text": [
      "\n"
     ]
    }
   ],
   "source": [
    "import os\n",
    "import pandas as pd\n",
    "from tqdm import tqdm\n",
    "\n",
    "rootdir = '/home/swleocresearch/Desktop/triage-ai/datasets/labelled_dataset/'\n",
    "df = pd.DataFrame(columns=['referral', 'output'])\n",
    "\n",
    "for subdir, dirs, files in tqdm(os.walk(rootdir)):\n",
    "    for file in files:\n",
    "        file_path = os.path.join(subdir, file)\n",
    "        file_id = file.split('/')[0].split(' ')[-1].split('.')[0]\n",
    "        # print('file_id: ', file_id)\n",
    "        \n",
    "        if 'R' in file_id:\n",
    "            referral_text = extract_text_from_pdf(file_path)\n",
    "            next_char = get_next_character(file_id, 'R')\n",
    "            ref_id = f'{next_char}'\n",
    "            \n",
    "            # print('subdir: ', subdir)\n",
    "            for subdir1, dirs1, files1 in os.walk(subdir):\n",
    "                for f in files1:\n",
    "                    file_id = f.split('/')[0].split(' ')[-1].split('.')[0]\n",
    "                    \n",
    "                    if f'C{ref_id}' in f:\n",
    "                        clinic_file_path = os.path.join(subdir1, f)\n",
    "                        label_row = df_label.loc[df_label['path'] == clinic_file_path, 'label']\n",
    "                        \n",
    "                        if not label_row.empty:\n",
    "                            label = label_row.iat[0]\n",
    "                            print(f\"Label found: {label}\")\n",
    "                        else:\n",
    "                            print(f\"No label found for {clinic_file_path}\")\n",
    "                            continue  # Skip this iteration if no label is found\n",
    "\n",
    "            \n",
    "                        print(f'input_file: {file_path}, label_file: {clinic_file_path}')\n",
    "                        \n",
    "                        new_row = pd.DataFrame({'referral': [referral_text], 'output': [label]})\n",
    "                        df = pd.concat([df, new_row], ignore_index=True)\n",
    "\n",
    "# At the end, if you'd like to see the dataframe\n",
    "df.to_csv('triage_dataset.csv')"
   ]
  },
  {
   "cell_type": "code",
   "execution_count": 130,
   "id": "ca7363f3-2de3-4ce3-9ace-f0224d6d3de3",
   "metadata": {},
   "outputs": [],
   "source": [
    "df_written = pd.read_csv('/home/swleocresearch/Desktop/triage-ai/datasets/triage_dataset.csv')"
   ]
  },
  {
   "cell_type": "code",
   "execution_count": 131,
   "id": "ead2fed5-bcd8-4418-9160-a054201d9e40",
   "metadata": {},
   "outputs": [
    {
     "data": {
      "text/plain": [
       "output\n",
       "surgery      33\n",
       "discharge    29\n",
       "tests        18\n",
       "fu           12\n",
       "referral      6\n",
       "injection     6\n",
       "physio        4\n",
       "Name: count, dtype: int64"
      ]
     },
     "execution_count": 131,
     "metadata": {},
     "output_type": "execute_result"
    }
   ],
   "source": [
    "df_written['output'].value_counts()"
   ]
  },
  {
   "cell_type": "code",
   "execution_count": 134,
   "id": "8c8b5170-1266-4bde-bdc3-43f3e1d2729e",
   "metadata": {},
   "outputs": [
    {
     "data": {
      "text/plain": [
       "['surgery',\n",
       " 'referral',\n",
       " 'surgery',\n",
       " 'physio',\n",
       " 'surgery',\n",
       " 'discharge',\n",
       " 'tests',\n",
       " 'discharge',\n",
       " 'surgery',\n",
       " 'discharge',\n",
       " 'referral',\n",
       " 'discharge',\n",
       " 'discharge',\n",
       " 'surgery',\n",
       " 'discharge',\n",
       " 'surgery',\n",
       " 'tests',\n",
       " 'surgery',\n",
       " 'injection',\n",
       " 'fu',\n",
       " 'tests',\n",
       " 'discharge',\n",
       " 'discharge',\n",
       " 'physio',\n",
       " 'surgery',\n",
       " 'fu',\n",
       " 'referral',\n",
       " 'injection',\n",
       " 'surgery',\n",
       " 'surgery',\n",
       " 'tests',\n",
       " 'injection',\n",
       " 'discharge',\n",
       " 'surgery',\n",
       " 'surgery',\n",
       " 'fu',\n",
       " 'referral',\n",
       " 'discharge',\n",
       " 'discharge',\n",
       " 'fu',\n",
       " 'discharge',\n",
       " 'tests',\n",
       " 'surgery',\n",
       " 'surgery',\n",
       " 'discharge',\n",
       " 'referral',\n",
       " 'discharge',\n",
       " 'surgery',\n",
       " 'surgery',\n",
       " 'tests',\n",
       " 'discharge',\n",
       " 'discharge',\n",
       " 'surgery',\n",
       " 'surgery',\n",
       " 'discharge',\n",
       " 'surgery',\n",
       " 'tests',\n",
       " 'surgery',\n",
       " 'fu',\n",
       " 'surgery',\n",
       " 'surgery',\n",
       " 'fu',\n",
       " 'surgery',\n",
       " 'surgery',\n",
       " 'surgery',\n",
       " 'physio',\n",
       " 'discharge',\n",
       " 'discharge',\n",
       " 'injection',\n",
       " 'fu',\n",
       " 'discharge',\n",
       " 'tests',\n",
       " 'injection',\n",
       " 'referral',\n",
       " 'discharge',\n",
       " 'tests',\n",
       " 'physio',\n",
       " 'discharge',\n",
       " 'surgery',\n",
       " 'tests',\n",
       " 'discharge',\n",
       " 'fu',\n",
       " 'surgery',\n",
       " 'fu',\n",
       " 'surgery',\n",
       " 'tests',\n",
       " 'fu',\n",
       " 'fu',\n",
       " 'discharge',\n",
       " 'tests',\n",
       " 'discharge',\n",
       " 'discharge',\n",
       " 'injection',\n",
       " 'surgery',\n",
       " 'surgery',\n",
       " 'tests',\n",
       " 'tests',\n",
       " 'discharge',\n",
       " 'fu',\n",
       " 'discharge',\n",
       " 'surgery',\n",
       " 'surgery',\n",
       " 'tests',\n",
       " 'tests',\n",
       " 'surgery',\n",
       " 'tests',\n",
       " 'discharge',\n",
       " 'tests']"
      ]
     },
     "execution_count": 134,
     "metadata": {},
     "output_type": "execute_result"
    }
   ],
   "source": [
    "df_written.iloc[:,2].tolist()"
   ]
  },
  {
   "cell_type": "code",
   "execution_count": null,
   "id": "872d435a-6fcb-4566-b51a-c4b1a4355162",
   "metadata": {},
   "outputs": [],
   "source": [
    "\n",
    "# Example array to iterate over\n",
    "\n",
    "# Create an empty DataFrame with two columns\n",
    "\n",
    "# Iterate through the array and add values to the DataFrame\n",
    "for i in range(len(array)):\n",
    "    df = df.append({'Column1': array[i], 'Column2': array[i] * 2}, ignore_index=True)\n",
    "\n",
    "# Display the resulting DataFrame\n",
    "print(df)\n"
   ]
  }
 ],
 "metadata": {
  "kernelspec": {
   "display_name": "Python 3 (ipykernel)",
   "language": "python",
   "name": "python3"
  },
  "language_info": {
   "codemirror_mode": {
    "name": "ipython",
    "version": 3
   },
   "file_extension": ".py",
   "mimetype": "text/x-python",
   "name": "python",
   "nbconvert_exporter": "python",
   "pygments_lexer": "ipython3",
   "version": "3.10.12"
  }
 },
 "nbformat": 4,
 "nbformat_minor": 5
}
